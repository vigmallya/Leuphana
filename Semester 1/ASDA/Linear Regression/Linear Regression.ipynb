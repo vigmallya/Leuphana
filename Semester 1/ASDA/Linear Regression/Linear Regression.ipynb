{
 "cells": [
  {
   "cell_type": "markdown",
   "id": "610515dd",
   "metadata": {},
   "source": [
    "# **Linear Regression**"
   ]
  },
  {
   "cell_type": "markdown",
   "id": "94946194",
   "metadata": {},
   "source": [
    "## Introduction\n",
    "\n",
    "Linear regression is a statistical method that is used to predict a continuous dependent variable based on one or more independent variables. This technique assumes a linear relationship between the dependent and independent variables, which implies that the dependent variable changes proportionally with changes in the independent variables.\n",
    "\n",
    "In other words, you need to find a function that maps some features or variables to others sufficiently well.The dependent features are called the dependent variables, outputs, or responses. The independent features are called the independent variables, inputs, regressors, or predictors.\n",
    "\n",
    "Regression problems usually have one continuous and unbounded dependent variable. The inputs, however, can be continuous, discrete, or even categorical data such as gender, nationality, or brand."
   ]
  },
  {
   "cell_type": "markdown",
   "id": "4e8c828d",
   "metadata": {},
   "source": [
    "## Types of Linear Regression\n",
    "\n",
    "There are two main types of linear regression:\n",
    "\n",
    "### **1. Simple linear regression:**\n",
    "This involves predicting a dependent variable based on a single independent variable.\n",
    "With only one independent variable, and the equation of the regression line is given by:\n",
    "\n",
    "## $y=mx+b$ or $y=b_{0}+b_{1}x$\n",
    "Here,\n",
    "- y is the dependent variable,\n",
    "- x is the independent variable,\n",
    "- m/$b_{1}$ is the slope of the line (which represents the change in y for a unit change in x), b/$b_{0}x$ is the y-intercept (the value of y when x is 0).\n",
    "\n",
    "### **2. Multiple linear regression:** \n",
    "This involves predicting a dependent variable based on multiple independent variables.\n",
    "In multiple linear regression, where there are multiple independent variables (x1, x2, ..., xn), the equation is extended to:\n",
    "\n",
    "## $y=b_{0}+b_{1}x_{1}+b_{2}x_{2}+....+b_{n}x_{n}$\n",
    "\n",
    "Here,\n",
    "- y is the dependent variable,\n",
    "- x1, x2, ..., xn are the independent variables,\n",
    "- b0 is the y-intercept,\n",
    "- b1, b2, ... , bn are the coefficients that represent the change in y for a unit change in each respective independent variable.\n",
    "\n",
    "It’s a common practice to denote the outputs with 𝑦 and the inputs with x. If there are two or more independent variables, then they can be represented as the vector x=($x_{0},...x_{n}$), where 𝑟 is the number of inputs."
   ]
  },
  {
   "cell_type": "markdown",
   "id": "a83ce53f",
   "metadata": {},
   "source": [
    "_`Linear Regression is among the simplest regression methods. One of its main advantages is the ease of interpreting results. Let’s consider a scenario where we want to determine the linear relationship between the weight of a dog and age in months. When we are given the age in months, can we estimate the weight of a dog`_"
   ]
  },
  {
   "cell_type": "markdown",
   "id": "f750c5ed",
   "metadata": {},
   "source": [
    "## Linear Regression Implementation in Python\n",
    "\n",
    "Let's generate synthetic data representing the relationship between dog ages and weights, using linear regression from scikit-learn to model this relationship, and visualize the original data points along with the linear regression line using matplotlib.\n",
    "\n",
    "There are some basic steps to follow when you’re implementing linear regression. These steps are more or less general for most of the regression approaches and implementations."
   ]
  },
  {
   "cell_type": "markdown",
   "id": "ddbe409a",
   "metadata": {},
   "source": [
    "### 1. Import Necessary Libraries:"
   ]
  },
  {
   "cell_type": "code",
   "execution_count": 1,
   "id": "1296cfdf",
   "metadata": {},
   "outputs": [],
   "source": [
    "import numpy as np\n",
    "import matplotlib.pyplot as plt\n",
    "from sklearn.model_selection import train_test_split\n",
    "from sklearn.linear_model import LinearRegression\n",
    "from sklearn.metrics import mean_squared_error, mean_absolute_error\n",
    "import pandas as pd"
   ]
  },
  {
   "cell_type": "markdown",
   "id": "ffcb6590",
   "metadata": {},
   "source": [
    "* **numpy** is used for numerical operations.\n",
    "* **matplotlib.pyplot** is used for creating plots.\n",
    "* **train_test_split** is from scikit-learn and is used to split the dataset into training and testing sets.\n",
    "* **LinearRegression** is a class from scikit-learn used to perform linear regression.\n",
    "* **mean_squared_error & mean_absolute_error** is a function from scikit-learn used to calculate the error.\n",
    "* **pandas** is imported as pd for data manipulation using DataFrames."
   ]
  },
  {
   "cell_type": "markdown",
   "id": "db2640dc",
   "metadata": {},
   "source": [
    "### 2. Generate /Import Data:"
   ]
  },
  {
   "cell_type": "code",
   "execution_count": 2,
   "id": "14dc50ef",
   "metadata": {},
   "outputs": [],
   "source": [
    "np.random.seed(42)\n",
    "ages = np.random.randint(0, 60, size=300)\n",
    "weights = 10 + 0.5 * ages + np.random.normal(0, 5, size=300)"
   ]
  },
  {
   "cell_type": "markdown",
   "id": "43422da5",
   "metadata": {},
   "source": [
    "* **np.random.seed(42)** ensures reproducibility by fixing the random seed.(42 is the seed value). The seed is an integer that serves as the starting point for the random number sequence.\n",
    "* ages is an array of 300 random integers between 0 and 60 (representing dog ages in months).\n",
    "* weights is generated using a linear relationship (10 + 0.5 * ages) with some added random noise."
   ]
  },
  {
   "cell_type": "markdown",
   "id": "b32581e8",
   "metadata": {},
   "source": [
    "If you have your own dataset, you can import it using the following code."
   ]
  },
  {
   "cell_type": "code",
   "execution_count": null,
   "id": "938cf701",
   "metadata": {},
   "outputs": [],
   "source": [
    "df = pd.read_csv('your_dataset.csv')\n",
    "\n",
    "# Extract the 'Age' and 'Weight' columns from the DataFrame\n",
    "ages = df['Age'].values\n",
    "weights = df['Weight'].values"
   ]
  },
  {
   "cell_type": "markdown",
   "id": "05cc026b",
   "metadata": {},
   "source": [
    "### 3. Create a pandas DataFrame from the generated data:"
   ]
  },
  {
   "cell_type": "code",
   "execution_count": 3,
   "id": "f97741ac",
   "metadata": {},
   "outputs": [],
   "source": [
    "df = pd.DataFrame({'Age': ages, 'Weight': weights})\n",
    "#Here the generated data is converted into a pandas DataFrame."
   ]
  },
  {
   "cell_type": "markdown",
   "id": "6c1a818b",
   "metadata": {},
   "source": [
    "The generated data, representing dog ages (ages) and corresponding weights (weights), is organized into a pandas DataFrame (df). The **pd.DataFrame** function is used to create a tabular data structure with labeled columns ('Age' and 'Weight'). This step is beneficial because pandas DataFrames provide a convenient way to organize, analyze, and manipulate structured data. The DataFrame structure allows for easy exploration and manipulation of the data using various pandas functions."
   ]
  },
  {
   "cell_type": "markdown",
   "id": "202e77f1",
   "metadata": {},
   "source": [
    "### 4. Display information about the DataFrame:"
   ]
  },
  {
   "cell_type": "code",
   "execution_count": 4,
   "id": "48f6ba2a",
   "metadata": {},
   "outputs": [
    {
     "name": "stdout",
     "output_type": "stream",
     "text": [
      "DataFrame Shape: (300, 2)\n",
      "\n",
      "DataFrame Head:\n",
      "   Age     Weight\n",
      "0   38  26.532838\n",
      "1   51  40.115813\n",
      "2   28  32.533025\n",
      "3   14  21.367947\n",
      "4   42  31.045722\n",
      "\n",
      "DataFrame Description:\n",
      "              Age      Weight\n",
      "count  300.000000  300.000000\n",
      "mean    29.930000   25.826362\n",
      "std     17.793081   10.197088\n",
      "min      0.000000    1.645671\n",
      "25%     14.000000   18.017262\n",
      "50%     31.000000   26.183281\n",
      "75%     44.000000   33.768457\n",
      "max     59.000000   47.301901\n"
     ]
    }
   ],
   "source": [
    "print(\"DataFrame Shape:\", df.shape)\n",
    "print(\"\\nDataFrame Head:\")\n",
    "print(df.head())\n",
    "print(\"\\nDataFrame Description:\")\n",
    "print(df.describe())"
   ]
  },
  {
   "cell_type": "markdown",
   "id": "92f9b36c",
   "metadata": {},
   "source": [
    "* **shape** is used to display the number of rows and columns in the DataFrame.\n",
    "* **head** is used to display the first few rows of the DataFrame.\n",
    "* **describe** is used to provide summary statistics of the DataFrame.\n",
    "These functions are helpful for exploring and understanding your dataset before applying machine learning models."
   ]
  },
  {
   "cell_type": "markdown",
   "id": "ed17ab91",
   "metadata": {},
   "source": [
    "### 5. Reshape the data:"
   ]
  },
  {
   "cell_type": "code",
   "execution_count": 5,
   "id": "4a8acb14",
   "metadata": {},
   "outputs": [],
   "source": [
    "# Reshape the data from a pandas DataFrame\n",
    "ages_reshaped = df['Age'].values.reshape(-1, 1)\n",
    "weights = df['Weight'].values"
   ]
  },
  {
   "cell_type": "code",
   "execution_count": null,
   "id": "85cd6e27",
   "metadata": {},
   "outputs": [],
   "source": [
    "# Use below code to reshape the data when using directly generated data without DataFrame\n",
    "ages_reshaped = ages.reshape(-1, 1)"
   ]
  },
  {
   "cell_type": "markdown",
   "id": "28d6a4e8",
   "metadata": {},
   "source": [
    "* The **reshape(-1, 1)** method is used to transform the one-dimensional array into a two-dimensional array with one column. The -1 argument in the reshape function is used to automatically infer the number of rows based on the length of the array."
   ]
  },
  {
   "cell_type": "markdown",
   "id": "b165b745",
   "metadata": {},
   "source": [
    "### 6. Split the Data into Training and Testing Sets:"
   ]
  },
  {
   "cell_type": "code",
   "execution_count": 6,
   "id": "4b6fb610",
   "metadata": {},
   "outputs": [],
   "source": [
    "X_train, X_test, y_train, y_test = train_test_split(ages_reshaped, weights, test_size=0.2, random_state=42)"
   ]
  },
  {
   "cell_type": "markdown",
   "id": "b3670a2f",
   "metadata": {},
   "source": [
    "* **train_test_split** is used to split the dataset into training and testing sets.\n",
    "* X_train, X_test are the input features for training and testing.\n",
    "* y_train, y_test are the corresponding target values (labels) for training and testing.\n",
    "* test_size=0.2 specifies that 20% of the data will be used for testing, and 80% for training.\n",
    "* random_state=42 sets the seed for reproducibility in the split."
   ]
  },
  {
   "cell_type": "markdown",
   "id": "5209b5be",
   "metadata": {},
   "source": [
    "### 7. Create and Fit the Linear Regression Model:"
   ]
  },
  {
   "cell_type": "code",
   "execution_count": 7,
   "id": "c0821700",
   "metadata": {},
   "outputs": [
    {
     "data": {
      "text/html": [
       "<style>#sk-container-id-1 {color: black;}#sk-container-id-1 pre{padding: 0;}#sk-container-id-1 div.sk-toggleable {background-color: white;}#sk-container-id-1 label.sk-toggleable__label {cursor: pointer;display: block;width: 100%;margin-bottom: 0;padding: 0.3em;box-sizing: border-box;text-align: center;}#sk-container-id-1 label.sk-toggleable__label-arrow:before {content: \"▸\";float: left;margin-right: 0.25em;color: #696969;}#sk-container-id-1 label.sk-toggleable__label-arrow:hover:before {color: black;}#sk-container-id-1 div.sk-estimator:hover label.sk-toggleable__label-arrow:before {color: black;}#sk-container-id-1 div.sk-toggleable__content {max-height: 0;max-width: 0;overflow: hidden;text-align: left;background-color: #f0f8ff;}#sk-container-id-1 div.sk-toggleable__content pre {margin: 0.2em;color: black;border-radius: 0.25em;background-color: #f0f8ff;}#sk-container-id-1 input.sk-toggleable__control:checked~div.sk-toggleable__content {max-height: 200px;max-width: 100%;overflow: auto;}#sk-container-id-1 input.sk-toggleable__control:checked~label.sk-toggleable__label-arrow:before {content: \"▾\";}#sk-container-id-1 div.sk-estimator input.sk-toggleable__control:checked~label.sk-toggleable__label {background-color: #d4ebff;}#sk-container-id-1 div.sk-label input.sk-toggleable__control:checked~label.sk-toggleable__label {background-color: #d4ebff;}#sk-container-id-1 input.sk-hidden--visually {border: 0;clip: rect(1px 1px 1px 1px);clip: rect(1px, 1px, 1px, 1px);height: 1px;margin: -1px;overflow: hidden;padding: 0;position: absolute;width: 1px;}#sk-container-id-1 div.sk-estimator {font-family: monospace;background-color: #f0f8ff;border: 1px dotted black;border-radius: 0.25em;box-sizing: border-box;margin-bottom: 0.5em;}#sk-container-id-1 div.sk-estimator:hover {background-color: #d4ebff;}#sk-container-id-1 div.sk-parallel-item::after {content: \"\";width: 100%;border-bottom: 1px solid gray;flex-grow: 1;}#sk-container-id-1 div.sk-label:hover label.sk-toggleable__label {background-color: #d4ebff;}#sk-container-id-1 div.sk-serial::before {content: \"\";position: absolute;border-left: 1px solid gray;box-sizing: border-box;top: 0;bottom: 0;left: 50%;z-index: 0;}#sk-container-id-1 div.sk-serial {display: flex;flex-direction: column;align-items: center;background-color: white;padding-right: 0.2em;padding-left: 0.2em;position: relative;}#sk-container-id-1 div.sk-item {position: relative;z-index: 1;}#sk-container-id-1 div.sk-parallel {display: flex;align-items: stretch;justify-content: center;background-color: white;position: relative;}#sk-container-id-1 div.sk-item::before, #sk-container-id-1 div.sk-parallel-item::before {content: \"\";position: absolute;border-left: 1px solid gray;box-sizing: border-box;top: 0;bottom: 0;left: 50%;z-index: -1;}#sk-container-id-1 div.sk-parallel-item {display: flex;flex-direction: column;z-index: 1;position: relative;background-color: white;}#sk-container-id-1 div.sk-parallel-item:first-child::after {align-self: flex-end;width: 50%;}#sk-container-id-1 div.sk-parallel-item:last-child::after {align-self: flex-start;width: 50%;}#sk-container-id-1 div.sk-parallel-item:only-child::after {width: 0;}#sk-container-id-1 div.sk-dashed-wrapped {border: 1px dashed gray;margin: 0 0.4em 0.5em 0.4em;box-sizing: border-box;padding-bottom: 0.4em;background-color: white;}#sk-container-id-1 div.sk-label label {font-family: monospace;font-weight: bold;display: inline-block;line-height: 1.2em;}#sk-container-id-1 div.sk-label-container {text-align: center;}#sk-container-id-1 div.sk-container {/* jupyter's `normalize.less` sets `[hidden] { display: none; }` but bootstrap.min.css set `[hidden] { display: none !important; }` so we also need the `!important` here to be able to override the default hidden behavior on the sphinx rendered scikit-learn.org. See: https://github.com/scikit-learn/scikit-learn/issues/21755 */display: inline-block !important;position: relative;}#sk-container-id-1 div.sk-text-repr-fallback {display: none;}</style><div id=\"sk-container-id-1\" class=\"sk-top-container\"><div class=\"sk-text-repr-fallback\"><pre>LinearRegression()</pre><b>In a Jupyter environment, please rerun this cell to show the HTML representation or trust the notebook. <br />On GitHub, the HTML representation is unable to render, please try loading this page with nbviewer.org.</b></div><div class=\"sk-container\" hidden><div class=\"sk-item\"><div class=\"sk-estimator sk-toggleable\"><input class=\"sk-toggleable__control sk-hidden--visually\" id=\"sk-estimator-id-1\" type=\"checkbox\" checked><label for=\"sk-estimator-id-1\" class=\"sk-toggleable__label sk-toggleable__label-arrow\">LinearRegression</label><div class=\"sk-toggleable__content\"><pre>LinearRegression()</pre></div></div></div></div></div>"
      ],
      "text/plain": [
       "LinearRegression()"
      ]
     },
     "execution_count": 7,
     "metadata": {},
     "output_type": "execute_result"
    }
   ],
   "source": [
    "model = LinearRegression()\n",
    "model.fit(X_train, y_train)"
   ]
  },
  {
   "cell_type": "markdown",
   "id": "5009fa12",
   "metadata": {},
   "source": [
    "* An instance of the **LinearRegression** class is created. \n",
    "* The fit method is used to train the model on the training set.\n",
    "\n",
    "Linear regression model basically finds the best value for the intercept and slope, which results in a line that best fits the data. To see the value of the intercept and slope calculated by the linear regression algorithm for our dataset, execute the following script to retrieve the intercept:"
   ]
  },
  {
   "cell_type": "code",
   "execution_count": 8,
   "id": "dc973385",
   "metadata": {},
   "outputs": [
    {
     "name": "stdout",
     "output_type": "stream",
     "text": [
      "\n",
      "Coefficients: [0.49967695]\n",
      "Intercept: 10.731323827720102\n"
     ]
    }
   ],
   "source": [
    "# Get coefficients and intercept\n",
    "coefficients = model.coef_\n",
    "intercept = model.intercept_\n",
    "\n",
    "# Print coefficients and intercept\n",
    "print(f'\\nCoefficients: {coefficients}')\n",
    "print(f'Intercept: {intercept}')"
   ]
  },
  {
   "cell_type": "markdown",
   "id": "ac2079ea",
   "metadata": {},
   "source": [
    "In this example, coefficients represents the slope, and intercept represents the y-intercept of the linear equation."
   ]
  },
  {
   "cell_type": "markdown",
   "id": "498d8bb6",
   "metadata": {},
   "source": [
    "### 8. Make Predictions on the Testing Set:"
   ]
  },
  {
   "cell_type": "code",
   "execution_count": 9,
   "id": "bdbf1e1d",
   "metadata": {},
   "outputs": [],
   "source": [
    "y_pred = model.predict(X_test)"
   ]
  },
  {
   "cell_type": "markdown",
   "id": "39514d34",
   "metadata": {},
   "source": [
    "* Predictions are made using the trained model on the testing set."
   ]
  },
  {
   "cell_type": "markdown",
   "id": "a0d45f18",
   "metadata": {},
   "source": [
    "### 9. Evaluate the Model:"
   ]
  },
  {
   "cell_type": "code",
   "execution_count": 10,
   "id": "a6d39bb0",
   "metadata": {},
   "outputs": [
    {
     "name": "stdout",
     "output_type": "stream",
     "text": [
      "Mean Squared Error: 21.32477052321913\n",
      "Mean Absolute Error: 3.9370489509407145\n",
      "Root Mean Squared Error: 4.617875109097162\n"
     ]
    }
   ],
   "source": [
    "# Calculate Mean Squarred Error (MSE)\n",
    "mse = mean_squared_error(y_test, y_pred)\n",
    "print(f'Mean Squared Error: {mse}')\n",
    "\n",
    "# Calculate Mean Absolute Error (MAE)\n",
    "mae = mean_absolute_error(y_test, y_pred)\n",
    "print(f'Mean Absolute Error: {mae}')\n",
    "\n",
    "# Calculate Root Mean Squared Error (RMSE)\n",
    "rmse = np.sqrt(mse)\n",
    "print(f'Root Mean Squared Error: {rmse}')"
   ]
  },
  {
   "cell_type": "markdown",
   "id": "87c43d58",
   "metadata": {},
   "source": [
    "For regression algorithms, three evaluation indicators are usually used:\n",
    "* **Mean Squared Error (MSE)** is the mean of the squared errors.\n",
    "* **Mean Absolute Error (MAE)** is the mean of the absolute value of the errors.\n",
    "* **Root Mean Squared Error (RMSE)** is the square root of the mean of the squared errors\n",
    "* The result is printed, providing a quantitative measure of how well the model performs on the testing set.\n",
    "\n",
    "\n",
    "There are many factors that contribute to this inaccuracy, some of which are listed here:\n",
    "* The features we used may not have had a high enough correlation to the values we were trying to predict.\n",
    "* We assume that this data has a linear relationship, but this is not the case. visual data can help you determine."
   ]
  },
  {
   "cell_type": "markdown",
   "id": "608c49e1",
   "metadata": {},
   "source": [
    "### 10. Plot the Results:"
   ]
  },
  {
   "cell_type": "code",
   "execution_count": 11,
   "id": "50441a37",
   "metadata": {},
   "outputs": [
    {
     "data": {
      "image/png": "[encoded data removed]",
      "text/plain": [
       "<Figure size 640x480 with 1 Axes>"
      ]
     },
     "metadata": {},
     "output_type": "display_data"
    }
   ],
   "source": [
    "plt.scatter(X_test, y_test, label='Testing Set', color='blue')\n",
    "plt.plot(X_test, y_pred, color='red', label='Linear Regression Line')\n",
    "plt.xlabel('Age (months)')\n",
    "plt.ylabel('Weight (kg)')\n",
    "plt.title('Linear Regression Example for Dog Weights')\n",
    "plt.legend()\n",
    "plt.show()"
   ]
  },
  {
   "cell_type": "markdown",
   "id": "01c1addc",
   "metadata": {},
   "source": [
    "* The original data points are scattered using **plt.scatter**.\n",
    "* The linear regression line is plotted using **plt.plot**.\n",
    "* **Labels, title, and legend** are added for better understanding.\n",
    "* **plt.show()** displays the plot."
   ]
  },
  {
   "cell_type": "markdown",
   "id": "3bd6d947",
   "metadata": {},
   "source": [
    "## Advantages of Linear Regression\n",
    "- **Simplicity:** Linear regression is straightforward and easy to understand.\n",
    "- **Clear Insights:** Coefficients provide clear insights into variable relationships.\n",
    "- **Efficiency:** Computationally efficient, especially with large datasets.\n",
    "- **Versatility:** No strict assumptions about variable distribution.\n",
    "- **Feature Selection:** Useful for selecting important features.\n",
    "\n",
    "## Disadvantages of Linear Regression\n",
    "- **Linearity Assumption:** Effective only for linear relationships.\n",
    "- **Outlier Sensitivity:** Impactful sensitivity to outliers.\n",
    "- **Assumption Challenges:** Assumes independence and homoscedasticity.\n",
    "- **Multicollinearity Issues:** Problems with highly correlated variables.\n",
    "- **Categorical Data Handling:** Not ideal for categorical data without adjustments.\n",
    "- **Overfitting/Underfitting:** Vulnerable to overfitting or underfitting without regularization."
   ]
  },
  {
   "cell_type": "markdown",
   "id": "e17c0569",
   "metadata": {},
   "source": [
    "## Summary\n",
    "The goal of linear regression is to find the values of the coefficients (m, b in simple linear regression, and b0, b1, ... , bn in multiple linear regression) that best fit the observed data, minimizing the difference between the predicted values and the actual values. Linear regression is widely used in various fields for modeling and predicting relationships between variables. However, linear regression is a powerful and interpretable tool but may not be suitable for all types of data and relationships. Consideration of its assumptions and potential challenges is essential for successful application.\n"
   ]
  },
  {
   "cell_type": "markdown",
   "id": "fd3f5b11",
   "metadata": {},
   "source": [
    "## References"
   ]
  },
  {
   "cell_type": "markdown",
   "id": "d946ffdf",
   "metadata": {},
   "source": [
    "To learn more about this topic, please refer to the following resources.\n",
    "1. Real Python (n.d)<br> https://realpython.com/linear-regression-in-python/\n",
    "2. GeeksforGeeks (n.d)<br>https://www.geeksforgeeks.org/linear-regression-python-implementation/\n",
    "3. Scikit-learn (n.d)<br>https://scikit-learn.org/stable/modules/classes.html#module-sklearn.linear_model"
   ]
  },
  {
   "cell_type": "markdown",
   "id": "4619f51b",
   "metadata": {},
   "source": [
    "# **_Haiku_** 🐶 🦮\n",
    "\n",
    "Furry friend arrives,<br>\n",
    "kinship blooms, a bond thrives, <br>\n",
    "paws of love derived."
   ]
  }
 ],
 "metadata": {
  "kernelspec": {
   "display_name": "Python 3 (ipykernel)",
   "language": "python",
   "name": "python3"
  },
  "language_info": {
   "codemirror_mode": {
    "name": "ipython",
    "version": 3
   },
   "file_extension": ".py",
   "mimetype": "text/x-python",
   "name": "python",
   "nbconvert_exporter": "python",
   "pygments_lexer": "ipython3",
   "version": "3.11.5"
  }
 },
 "nbformat": 4,
 "nbformat_minor": 5
}
